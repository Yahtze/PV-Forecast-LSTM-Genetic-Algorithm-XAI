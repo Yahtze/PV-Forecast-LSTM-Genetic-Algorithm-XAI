{
 "cells": [
  {
   "cell_type": "code",
   "execution_count": 1,
   "id": "6ac8fec7-93b1-4134-a4b5-770d65f0813b",
   "metadata": {},
   "outputs": [
    {
     "name": "stdout",
     "output_type": "stream",
     "text": [
      "Python 3.7.0\n",
      "tensorflow            1.14.0\n",
      "tensorflow-estimator  1.14.0\n"
     ]
    }
   ],
   "source": [
    "!python --version\n",
    "!pip list | grep tensorflow"
   ]
  },
  {
   "cell_type": "code",
   "execution_count": 2,
   "id": "f3e030d5",
   "metadata": {},
   "outputs": [],
   "source": [
    "import pandas as pd\n",
    "import numpy as np\n",
    "import pytz"
   ]
  },
  {
   "cell_type": "code",
   "execution_count": 3,
   "id": "9d27e483-4d4c-441f-bf25-06ea4b99f7b5",
   "metadata": {},
   "outputs": [
    {
     "name": "stderr",
     "output_type": "stream",
     "text": [
      "/Users/yathinreddy/Desktop/Major_Project/pvpower/lib/python3.7/site-packages/IPython/core/interactiveshell.py:3258: DtypeWarning: Columns (0,1,2,3,4,5,6,7,8,9,10,11,12,13,14,15,16,17,18,19,20,21,22,23,24,25,26,27,28,29,30,31,32,33,34,35,36,37,39,40,41,42,43,45) have mixed types.Specify dtype option on import or set low_memory=False.\n",
      "  interactivity=interactivity, compiler=compiler, result=result)\n"
     ]
    }
   ],
   "source": [
    "data_src = \"./solar_data.csv\"\n",
    "data_df = pd.read_csv(data_src)"
   ]
  },
  {
   "cell_type": "code",
   "execution_count": 4,
   "id": "2c3cedfa",
   "metadata": {},
   "outputs": [
    {
     "name": "stdout",
     "output_type": "stream",
     "text": [
      "  Source Location ID City State Country Latitude Longitude Time Zone  \\\n",
      "0  NSRDB     1951980    -     -       -    39.74   -104.99         0   \n",
      "\n",
      "  Elevation Local Time Zone  ... Cloud Type 11 Cloud Type 12 Fill Flag 0  \\\n",
      "0      1608              -7  ...          Dust         Smoke         NaN   \n",
      "\n",
      "     Fill Flag 1     Fill Flag 2       Fill Flag 3               Fill Flag 4  \\\n",
      "0  Missing Image  Low Irradiance  Exceeds Clearsky  Missing CLoud Properties   \n",
      "\n",
      "          Fill Flag 5 Surface Albedo Units Version  \n",
      "0  Rayleigh Violation                  NaN   4.0.0  \n",
      "\n",
      "[1 rows x 46 columns]\n"
     ]
    }
   ],
   "source": [
    "#Slice The Header Information Into A Seperate Data Frame\n",
    "df_headers = data_df.iloc[:1]\n",
    "data_df = data_df.iloc[1:]\n",
    "print(df_headers.head())"
   ]
  },
  {
   "cell_type": "code",
   "execution_count": 5,
   "id": "b4dac1e6",
   "metadata": {
    "scrolled": true
   },
   "outputs": [
    {
     "name": "stdout",
     "output_type": "stream",
     "text": [
      "1  Year Month Day Hour Minute          Temperature Alpha    AOD Asymmetry  \\\n",
      "0  2022     1   1    0      0  -3.4000000000000004  1.25  0.088      0.62   \n",
      "1  2022     1   1    0     10                 -3.6  1.25  0.088      0.62   \n",
      "2  2022     1   1    0     20  -3.8000000000000003  1.25  0.088      0.62   \n",
      "3  2022     1   1    0     30                   -4  1.25  0.088      0.62   \n",
      "4  2022     1   1    0     40                 -4.3  1.21  0.085      0.62   \n",
      "\n",
      "1 Clearsky DHI  ...  NaN  NaN NaN  NaN  NaN  NaN  NaN  NaN NaN  NaN  \n",
      "0            0  ...  NaN  NaN NaN  NaN  NaN  NaN  NaN  NaN NaN  NaN  \n",
      "1            0  ...  NaN  NaN NaN  NaN  NaN  NaN  NaN  NaN NaN  NaN  \n",
      "2            0  ...  NaN  NaN NaN  NaN  NaN  NaN  NaN  NaN NaN  NaN  \n",
      "3            0  ...  NaN  NaN NaN  NaN  NaN  NaN  NaN  NaN NaN  NaN  \n",
      "4            0  ...  NaN  NaN NaN  NaN  NaN  NaN  NaN  NaN NaN  NaN  \n",
      "\n",
      "[5 rows x 46 columns]\n"
     ]
    }
   ],
   "source": [
    "data_df.columns = data_df.iloc[0]  # Use the first row of data as column headers\n",
    "data_df = data_df[1:]  # Drop the first row after setting it as header\n",
    "data_df.reset_index(drop=True, inplace=True) #Reset the Index\n",
    "print(data_df.head())"
   ]
  },
  {
   "cell_type": "code",
   "execution_count": 6,
   "id": "abedc71e",
   "metadata": {},
   "outputs": [],
   "source": [
    "#Drop Columns With All Values NaN\n",
    "df_cleaned = data_df.dropna(axis=1, how=\"all\")"
   ]
  },
  {
   "cell_type": "code",
   "execution_count": 7,
   "id": "42dd3888",
   "metadata": {},
   "outputs": [
    {
     "name": "stdout",
     "output_type": "stream",
     "text": [
      "1\n",
      "Year                    int64\n",
      "Month                   int64\n",
      "Day                     int64\n",
      "Hour                    int64\n",
      "Minute                  int64\n",
      "Temperature           float64\n",
      "Alpha                 float64\n",
      "AOD                   float64\n",
      "Asymmetry             float64\n",
      "Clearsky DHI            int64\n",
      "Clearsky DNI            int64\n",
      "Clearsky GHI            int64\n",
      "Cloud Fill Flag         int64\n",
      "Cloud Type              int64\n",
      "Dew Point             float64\n",
      "DHI                     int64\n",
      "DNI                     int64\n",
      "Fill Flag               int64\n",
      "GHI                     int64\n",
      "Ozone                 float64\n",
      "Relative Humidity     float64\n",
      "Solar Zenith Angle    float64\n",
      "SSA                   float64\n",
      "Surface Albedo        float64\n",
      "Pressure                int64\n",
      "Precipitable Water    float64\n",
      "Wind Direction          int64\n",
      "Wind Speed            float64\n",
      "dtype: object\n"
     ]
    }
   ],
   "source": [
    "# Convert all columns to float, replacing non-numeric values with NaN\n",
    "df_cleaned = df_cleaned.apply(pd.to_numeric, errors='coerce')\n",
    "print(df_cleaned.dtypes)"
   ]
  },
  {
   "cell_type": "code",
   "execution_count": 8,
   "id": "f14cc40b",
   "metadata": {
    "scrolled": true
   },
   "outputs": [
    {
     "name": "stdout",
     "output_type": "stream",
     "text": [
      "1  Year  Month  Day  Hour  Minute  Temperature  Alpha    AOD  Asymmetry  \\\n",
      "0  2022      1    1     0       0         -3.4   1.25  0.088       0.62   \n",
      "1  2022      1    1     0      10         -3.6   1.25  0.088       0.62   \n",
      "2  2022      1    1     0      20         -3.8   1.25  0.088       0.62   \n",
      "3  2022      1    1     0      30         -4.0   1.25  0.088       0.62   \n",
      "4  2022      1    1     0      40         -4.3   1.21  0.085       0.62   \n",
      "\n",
      "1  Clearsky DHI  ...  GHI  Ozone  Relative Humidity  Solar Zenith Angle   SSA  \\\n",
      "0             0  ...    0  0.274              80.14               93.28  0.95   \n",
      "1             0  ...    0  0.274              81.45               94.99  0.95   \n",
      "2             0  ...    0  0.274              82.68               96.73  0.95   \n",
      "3             0  ...    0  0.274              83.93               98.49  0.95   \n",
      "4             0  ...    0  0.274              79.32              100.27  0.95   \n",
      "\n",
      "1  Surface Albedo  Pressure  Precipitable Water  Wind Direction  Wind Speed  \n",
      "0             0.8       810                 0.8              29         3.7  \n",
      "1             0.8       811                 0.8              28         3.8  \n",
      "2             0.8       811                 0.7              27         3.9  \n",
      "3             0.8       811                 0.7              26         4.0  \n",
      "4             0.8       811                 0.7              25         4.1  \n",
      "\n",
      "[5 rows x 28 columns]\n"
     ]
    }
   ],
   "source": [
    "#Round Values Of All Columns Upto 3 Decimal Points\n",
    "df_cleaned = df_cleaned.round(3)\n",
    "print(df_cleaned.head())"
   ]
  },
  {
   "cell_type": "code",
   "execution_count": 9,
   "id": "be8ca14d",
   "metadata": {
    "scrolled": true
   },
   "outputs": [],
   "source": [
    "#Join The Date Columns Into A Single Column Called DateTime\n",
    "df_cleaned['DateTime'] = pd.to_datetime(df_cleaned[['Year', 'Month', 'Day', 'Hour', 'Minute']])\n",
    "#print(df_cleaned['DateTime'])"
   ]
  },
  {
   "cell_type": "code",
   "execution_count": 10,
   "id": "92193210",
   "metadata": {},
   "outputs": [
    {
     "name": "stdout",
     "output_type": "stream",
     "text": [
      "1      Year  Month  Day  Hour  Minute  Temperature  Alpha    AOD  Asymmetry  \\\n",
      "0      2022      1    1     0       0         -3.4   1.25  0.088       0.62   \n",
      "1      2022      1    1     0      10         -3.6   1.25  0.088       0.62   \n",
      "2      2022      1    1     0      20         -3.8   1.25  0.088       0.62   \n",
      "3      2022      1    1     0      30         -4.0   1.25  0.088       0.62   \n",
      "4      2022      1    1     0      40         -4.3   1.21  0.085       0.62   \n",
      "...     ...    ...  ...   ...     ...          ...    ...    ...        ...   \n",
      "52555  2022     12   31    23      10          3.7   1.54  0.010       0.62   \n",
      "52556  2022     12   31    23      20          3.7   1.54  0.010       0.62   \n",
      "52557  2022     12   31    23      30          3.7   1.54  0.010       0.62   \n",
      "52558  2022     12   31    23      40          3.7   1.54  0.010       0.62   \n",
      "52559  2022     12   31    23      50          3.7   1.54  0.010       0.62   \n",
      "\n",
      "1      Clearsky DHI  ...  Relative Humidity  Solar Zenith Angle   SSA  \\\n",
      "0                 0  ...              80.14               93.28  0.95   \n",
      "1                 0  ...              81.45               94.99  0.95   \n",
      "2                 0  ...              82.68               96.73  0.95   \n",
      "3                 0  ...              83.93               98.49  0.95   \n",
      "4                 0  ...              79.32              100.27  0.95   \n",
      "...             ...  ...                ...                 ...   ...   \n",
      "52555            20  ...              65.17               84.99  0.85   \n",
      "52556            17  ...              65.17               86.52  0.85   \n",
      "52557            12  ...              65.17               88.06  0.85   \n",
      "52558             0  ...              65.17               89.56  0.85   \n",
      "52559             0  ...              65.17               91.62  0.85   \n",
      "\n",
      "1      Surface Albedo  Pressure  Precipitable Water  Wind Direction  \\\n",
      "0                0.80       810                 0.8              29   \n",
      "1                0.80       811                 0.8              28   \n",
      "2                0.80       811                 0.7              27   \n",
      "3                0.80       811                 0.7              26   \n",
      "4                0.80       811                 0.7              25   \n",
      "...               ...       ...                 ...             ...   \n",
      "52555            0.65       816                 0.9             239   \n",
      "52556            0.65       816                 0.9             239   \n",
      "52557            0.65       816                 0.9             239   \n",
      "52558            0.65       816                 0.9             239   \n",
      "52559            0.65       816                 0.9             239   \n",
      "\n",
      "1      Wind Speed            DateTime      local_datetime  \n",
      "0             3.7 2022-01-01 00:00:00 2021-12-31 17:00:00  \n",
      "1             3.8 2022-01-01 00:10:00 2021-12-31 17:10:00  \n",
      "2             3.9 2022-01-01 00:20:00 2021-12-31 17:20:00  \n",
      "3             4.0 2022-01-01 00:30:00 2021-12-31 17:30:00  \n",
      "4             4.1 2022-01-01 00:40:00 2021-12-31 17:40:00  \n",
      "...           ...                 ...                 ...  \n",
      "52555         0.4 2022-12-31 23:10:00 2022-12-31 16:10:00  \n",
      "52556         0.4 2022-12-31 23:20:00 2022-12-31 16:20:00  \n",
      "52557         0.4 2022-12-31 23:30:00 2022-12-31 16:30:00  \n",
      "52558         0.4 2022-12-31 23:40:00 2022-12-31 16:40:00  \n",
      "52559         0.4 2022-12-31 23:50:00 2022-12-31 16:50:00  \n",
      "\n",
      "[52560 rows x 30 columns]\n"
     ]
    }
   ],
   "source": [
    "local_time_zone = 'America/Denver'\n",
    "# Convert UTC to local time\n",
    "df_cleaned['local_datetime'] = df_cleaned['DateTime'].dt.tz_localize('UTC').dt.tz_convert(local_time_zone)\n",
    "df_cleaned['local_datetime'] = df_cleaned['local_datetime'].dt.tz_localize(None)\n",
    "print(df_cleaned)"
   ]
  },
  {
   "cell_type": "code",
   "execution_count": 11,
   "id": "cb160fc9",
   "metadata": {},
   "outputs": [],
   "source": [
    "# Drop the original columns and reorder the dataframe\n",
    "df_cleaned = df_cleaned.drop(columns=['Year', 'Month', 'Day', 'Hour', 'Minute'])\n",
    "\n",
    "# Reorder the columns to make 'datetime' the first column\n",
    "# Create a list of the columns you want to keep in the specific order\n",
    "columns_order = ['DateTime', 'local_datetime'] + [col for col in df_cleaned.columns if col not in ['DateTime', 'local_datetime']]\n",
    "\n",
    "# Reorder the DataFrame columns based on the list\n",
    "df_cleaned = df_cleaned[columns_order]"
   ]
  },
  {
   "cell_type": "code",
   "execution_count": 14,
   "id": "d00ed9a3",
   "metadata": {},
   "outputs": [
    {
     "name": "stdout",
     "output_type": "stream",
     "text": [
      "Number Of NaN Measurements: 1\n",
      "DateTime              0\n",
      "local_datetime        0\n",
      "Temperature           0\n",
      "Alpha                 0\n",
      "AOD                   0\n",
      "Asymmetry             0\n",
      "Clearsky DHI          0\n",
      "Clearsky DNI          0\n",
      "Clearsky GHI          0\n",
      "Cloud Fill Flag       0\n",
      "Cloud Type            0\n",
      "Dew Point             0\n",
      "DHI                   0\n",
      "DNI                   0\n",
      "Fill Flag             0\n",
      "GHI                   0\n",
      "Ozone                 0\n",
      "Relative Humidity     0\n",
      "Solar Zenith Angle    0\n",
      "SSA                   0\n",
      "Surface Albedo        0\n",
      "Pressure              0\n",
      "Precipitable Water    0\n",
      "Wind Direction        0\n",
      "Wind Speed            0\n",
      "dtype: int64\n"
     ]
    }
   ],
   "source": [
    "#Testing\n",
    "print(\"Number Of NaN Measurements: \" + str(df_cleaned.isnull().sum()))"
   ]
  },
  {
   "cell_type": "code",
   "execution_count": 17,
   "id": "1f8e8c28",
   "metadata": {},
   "outputs": [
    {
     "name": "stdout",
     "output_type": "stream",
     "text": [
      "Number Of Rows With Fill Flag Error:  0\n"
     ]
    }
   ],
   "source": [
    "#Removal Of Rows With Fill Flag != 0\n",
    "print(\"Number Of Rows With Fill Flag Error: \", (df_cleaned['Fill Flag'] != 0).sum())\n",
    "df_cleaned = df_cleaned[df_cleaned[\"Fill Flag\"] == 0]"
   ]
  },
  {
   "cell_type": "code",
   "execution_count": 18,
   "id": "cb961d50",
   "metadata": {
    "scrolled": true
   },
   "outputs": [],
   "source": [
    "#The Cloud Type, Cloud Fill Flag and Fill Flags are dropped\n",
    "df_cleaned = df_cleaned.drop(columns=['Cloud Type', 'Cloud Fill Flag', 'Fill Flag'])"
   ]
  },
  {
   "cell_type": "code",
   "execution_count": 19,
   "id": "de347a51",
   "metadata": {},
   "outputs": [
    {
     "name": "stdout",
     "output_type": "stream",
     "text": [
      "Number Of Outliers (Above Max): 321\n",
      "Number Of Outliers (Below Min): 0\n"
     ]
    }
   ],
   "source": [
    "#Identification Of Outliers\n",
    "GHI_max = 1000\n",
    "GHI_min = 0\n",
    "\n",
    "print(\"Number Of Outliers (Above Max): \" + str((df_cleaned['GHI'] > GHI_max).sum()))\n",
    "#print(df_cleaned.loc[df_cleaned['GHI'] > GHI_max, 'GHI'])\n",
    "print(\"Number Of Outliers (Below Min): \" + str((df_cleaned['GHI'] < GHI_min).sum()))\n",
    "#print(df_cleaned.loc[df_cleaned['GHI'] < GHI_min, 'GHI'])"
   ]
  },
  {
   "cell_type": "code",
   "execution_count": 20,
   "id": "2a67f37a",
   "metadata": {},
   "outputs": [
    {
     "name": "stdout",
     "output_type": "stream",
     "text": [
      "Number Of Outliers (Above Max): 0\n",
      "Updated Number Of Rows:  49642\n"
     ]
    }
   ],
   "source": [
    "#Removal Of Outliers\n",
    "df_cleaned = df_cleaned[(df_cleaned[\"GHI\"] < GHI_max)]\n",
    "print(\"Number Of Outliers (Above Max): \" + str((df_cleaned['GHI'] > GHI_max).sum()))\n",
    "print(\"Updated Number Of Rows: \", df_cleaned.shape[0])"
   ]
  },
  {
   "cell_type": "code",
   "execution_count": 21,
   "id": "88872769",
   "metadata": {},
   "outputs": [
    {
     "name": "stdout",
     "output_type": "stream",
     "text": [
      "Percentage Of Data As Night Measurements: 53%\n",
      "Clear Sky GHI Minimums And Maximums Before Removal Of Night Measurements 0 1064\n"
     ]
    }
   ],
   "source": [
    "#Number Of Night Measurements\n",
    "nb_night_measurements = int(100*df_cleaned[df_cleaned[\"Clearsky GHI\"] < 30].shape[0] / df_cleaned.shape[0])\n",
    "print(\"Percentage Of Data As Night Measurements: \" + str(nb_night_measurements) + \"%\")\n",
    "\n",
    "#Removal Of Night Measurements\n",
    "print(\"Clear Sky GHI Minimums And Maximums Before Removal Of Night Measurements\", df_cleaned[\"Clearsky GHI\"].min(), df_cleaned[\"Clearsky GHI\"].max())\n",
    "df_cleaned = df_cleaned[df_cleaned[\"Clearsky GHI\"] > 30]"
   ]
  },
  {
   "cell_type": "code",
   "execution_count": 22,
   "id": "06850150",
   "metadata": {},
   "outputs": [
    {
     "name": "stdout",
     "output_type": "stream",
     "text": [
      "Clear Sky GHI Minimums And Maximums After Removal Of Night Measurements 31 1064\n",
      "Updated Number Of Rows:  23187\n"
     ]
    }
   ],
   "source": [
    "#Testing\n",
    "print(\"Clear Sky GHI Minimums And Maximums After Removal Of Night Measurements\", df_cleaned[\"Clearsky GHI\"].min(), df_cleaned[\"Clearsky GHI\"].max())\n",
    "print(\"Updated Number Of Rows: \", df_cleaned.shape[0])"
   ]
  },
  {
   "cell_type": "code",
   "execution_count": 23,
   "id": "f4c6ff3d",
   "metadata": {},
   "outputs": [
    {
     "name": "stdout",
     "output_type": "stream",
     "text": [
      "Kcs Minimums And Maximums 0.01444043321299639 1.0\n"
     ]
    }
   ],
   "source": [
    "#Introduction Of Clear Sky Index\n",
    "df_cleaned['Kcs'] = df_cleaned['GHI'] / df_cleaned[\"Clearsky GHI\"]\n",
    "#print(df_cleaned['Kcs'])\n",
    "df_cleaned.replace([np.inf, -np.inf], 0, inplace = True)\n",
    "print(\"Kcs Minimums And Maximums\", df_cleaned[\"Kcs\"].min(), df_cleaned[\"Kcs\"].max())\n",
    "df_cleaned['Kcs'] = df_cleaned['Kcs'].round(3)"
   ]
  },
  {
   "cell_type": "code",
   "execution_count": 24,
   "id": "699c77d9",
   "metadata": {},
   "outputs": [],
   "source": [
    "df_cleaned.reset_index(drop=True, inplace=True)"
   ]
  },
  {
   "cell_type": "code",
   "execution_count": null,
   "id": "d8064a60",
   "metadata": {},
   "outputs": [],
   "source": [
    "df_cleaned.to_csv(\"solar_data_cleaned.csv\", index=True)"
   ]
  },
  {
   "cell_type": "code",
   "execution_count": 25,
   "id": "2fd75203",
   "metadata": {},
   "outputs": [],
   "source": [
    "df_cleaned.to_csv(\"solar_data_cleaned_updated.csv\", index=True)"
   ]
  },
  {
   "cell_type": "markdown",
   "id": "60d16e70",
   "metadata": {},
   "source": [
    "**Testing Code**"
   ]
  },
  {
   "cell_type": "code",
   "execution_count": 12,
   "id": "9bce886b",
   "metadata": {},
   "outputs": [
    {
     "name": "stdout",
     "output_type": "stream",
     "text": [
      "1  Year Month Day Hour Minute          Temperature Alpha    AOD Asymmetry  \\\n",
      "0  2022     1   1    0      0  -3.4000000000000004  1.25  0.088      0.62   \n",
      "1  2022     1   1    0     10                 -3.6  1.25  0.088      0.62   \n",
      "2  2022     1   1    0     20  -3.8000000000000003  1.25  0.088      0.62   \n",
      "3  2022     1   1    0     30                   -4  1.25  0.088      0.62   \n",
      "4  2022     1   1    0     40                 -4.3  1.21  0.085      0.62   \n",
      "\n",
      "1 Clearsky DHI  ...  NaN  NaN NaN  NaN  NaN  NaN  NaN  NaN NaN  NaN  \n",
      "0            0  ...  NaN  NaN NaN  NaN  NaN  NaN  NaN  NaN NaN  NaN  \n",
      "1            0  ...  NaN  NaN NaN  NaN  NaN  NaN  NaN  NaN NaN  NaN  \n",
      "2            0  ...  NaN  NaN NaN  NaN  NaN  NaN  NaN  NaN NaN  NaN  \n",
      "3            0  ...  NaN  NaN NaN  NaN  NaN  NaN  NaN  NaN NaN  NaN  \n",
      "4            0  ...  NaN  NaN NaN  NaN  NaN  NaN  NaN  NaN NaN  NaN  \n",
      "\n",
      "[5 rows x 46 columns]\n",
      "(52560, 46)\n",
      "Index([              'Year',              'Month',                'Day',\n",
      "                     'Hour',             'Minute',        'Temperature',\n",
      "                    'Alpha',                'AOD',          'Asymmetry',\n",
      "             'Clearsky DHI',       'Clearsky DNI',       'Clearsky GHI',\n",
      "          'Cloud Fill Flag',         'Cloud Type',          'Dew Point',\n",
      "                      'DHI',                'DNI',          'Fill Flag',\n",
      "                      'GHI',              'Ozone',  'Relative Humidity',\n",
      "       'Solar Zenith Angle',                'SSA',     'Surface Albedo',\n",
      "                 'Pressure', 'Precipitable Water',     'Wind Direction',\n",
      "               'Wind Speed',                  nan,                  nan,\n",
      "                        nan,                  nan,                  nan,\n",
      "                        nan,                  nan,                  nan,\n",
      "                        nan,                  nan,                  nan,\n",
      "                        nan,                  nan,                  nan,\n",
      "                        nan,                  nan,                  nan,\n",
      "                        nan],\n",
      "      dtype='object', name=1)\n"
     ]
    }
   ],
   "source": [
    "print(data_df.head())\n",
    "print(data_df.shape)\n",
    "print(data_df.columns)"
   ]
  },
  {
   "cell_type": "code",
   "execution_count": 50,
   "id": "93a443bc",
   "metadata": {},
   "outputs": [
    {
     "name": "stdout",
     "output_type": "stream",
     "text": [
      "(23187, 23)\n"
     ]
    }
   ],
   "source": [
    "print(df_cleaned.shape)"
   ]
  },
  {
   "cell_type": "code",
   "execution_count": 13,
   "id": "2ecaa30b",
   "metadata": {},
   "outputs": [
    {
     "name": "stdout",
     "output_type": "stream",
     "text": [
      "1                DateTime      local_datetime  Temperature  Alpha    AOD  \\\n",
      "0     2022-01-01 00:00:00 2021-12-31 17:00:00         -3.4   1.25  0.088   \n",
      "1     2022-01-01 00:10:00 2021-12-31 17:10:00         -3.6   1.25  0.088   \n",
      "2     2022-01-01 00:20:00 2021-12-31 17:20:00         -3.8   1.25  0.088   \n",
      "3     2022-01-01 00:30:00 2021-12-31 17:30:00         -4.0   1.25  0.088   \n",
      "4     2022-01-01 00:40:00 2021-12-31 17:40:00         -4.3   1.21  0.085   \n",
      "...                   ...                 ...          ...    ...    ...   \n",
      "52555 2022-12-31 23:10:00 2022-12-31 16:10:00          3.7   1.54  0.010   \n",
      "52556 2022-12-31 23:20:00 2022-12-31 16:20:00          3.7   1.54  0.010   \n",
      "52557 2022-12-31 23:30:00 2022-12-31 16:30:00          3.7   1.54  0.010   \n",
      "52558 2022-12-31 23:40:00 2022-12-31 16:40:00          3.7   1.54  0.010   \n",
      "52559 2022-12-31 23:50:00 2022-12-31 16:50:00          3.7   1.54  0.010   \n",
      "\n",
      "1      Asymmetry  Clearsky DHI  Clearsky DNI  Clearsky GHI  Cloud Fill Flag  \\\n",
      "0           0.62             0             0             0                0   \n",
      "1           0.62             0             0             0                0   \n",
      "2           0.62             0             0             0                0   \n",
      "3           0.62             0             0             0                0   \n",
      "4           0.62             0             0             0                0   \n",
      "...          ...           ...           ...           ...              ...   \n",
      "52555       0.62            20           546            68                0   \n",
      "52556       0.62            17           467            45                0   \n",
      "52557       0.62            12           369            25                0   \n",
      "52558       0.62             0             0             0                0   \n",
      "52559       0.62             0             0             0                0   \n",
      "\n",
      "1      ...  GHI  Ozone  Relative Humidity  Solar Zenith Angle   SSA  \\\n",
      "0      ...    0  0.274              80.14               93.28  0.95   \n",
      "1      ...    0  0.274              81.45               94.99  0.95   \n",
      "2      ...    0  0.274              82.68               96.73  0.95   \n",
      "3      ...    0  0.274              83.93               98.49  0.95   \n",
      "4      ...    0  0.274              79.32              100.27  0.95   \n",
      "...    ...  ...    ...                ...                 ...   ...   \n",
      "52555  ...   68  0.273              65.17               84.99  0.85   \n",
      "52556  ...   45  0.273              65.17               86.52  0.85   \n",
      "52557  ...   25  0.273              65.17               88.06  0.85   \n",
      "52558  ...    0  0.273              65.17               89.56  0.85   \n",
      "52559  ...    0  0.273              65.17               91.62  0.85   \n",
      "\n",
      "1      Surface Albedo  Pressure  Precipitable Water  Wind Direction  \\\n",
      "0                0.80       810                 0.8              29   \n",
      "1                0.80       811                 0.8              28   \n",
      "2                0.80       811                 0.7              27   \n",
      "3                0.80       811                 0.7              26   \n",
      "4                0.80       811                 0.7              25   \n",
      "...               ...       ...                 ...             ...   \n",
      "52555            0.65       816                 0.9             239   \n",
      "52556            0.65       816                 0.9             239   \n",
      "52557            0.65       816                 0.9             239   \n",
      "52558            0.65       816                 0.9             239   \n",
      "52559            0.65       816                 0.9             239   \n",
      "\n",
      "1      Wind Speed  \n",
      "0             3.7  \n",
      "1             3.8  \n",
      "2             3.9  \n",
      "3             4.0  \n",
      "4             4.1  \n",
      "...           ...  \n",
      "52555         0.4  \n",
      "52556         0.4  \n",
      "52557         0.4  \n",
      "52558         0.4  \n",
      "52559         0.4  \n",
      "\n",
      "[52560 rows x 25 columns]\n"
     ]
    }
   ],
   "source": [
    "print(df_cleaned)"
   ]
  },
  {
   "cell_type": "code",
   "execution_count": null,
   "id": "48010031",
   "metadata": {},
   "outputs": [],
   "source": []
  }
 ],
 "metadata": {
  "kernelspec": {
   "display_name": "Python 3 (ipykernel)",
   "language": "python",
   "name": "python3"
  },
  "language_info": {
   "codemirror_mode": {
    "name": "ipython",
    "version": 3
   },
   "file_extension": ".py",
   "mimetype": "text/x-python",
   "name": "python",
   "nbconvert_exporter": "python",
   "pygments_lexer": "ipython3",
   "version": "3.7.0"
  }
 },
 "nbformat": 4,
 "nbformat_minor": 5
}
