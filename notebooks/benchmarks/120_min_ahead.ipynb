{
 "cells": [
  {
   "cell_type": "code",
   "execution_count": 1,
   "id": "a8a3861d",
   "metadata": {},
   "outputs": [],
   "source": [
    "import pandas as pd\n",
    "import numpy as np\n",
    "import seaborn as sns\n",
    "import matplotlib.pyplot as plt\n",
    "from time import time\n",
    "from sklearn.preprocessing import MinMaxScaler\n",
    "from sklearn.model_selection import train_test_split\n",
    "from sklearn.metrics import mean_squared_error, mean_absolute_error, r2_score"
   ]
  },
  {
   "cell_type": "code",
   "execution_count": 2,
   "id": "9e369191",
   "metadata": {},
   "outputs": [],
   "source": [
    "data_src = \"../../data/preprocessed/solar_data_combined_cleaned.csv\"\n",
    "data_df = pd.read_csv(data_src)"
   ]
  },
  {
   "cell_type": "code",
   "execution_count": 3,
   "id": "5d77ebee",
   "metadata": {
    "scrolled": true
   },
   "outputs": [],
   "source": [
    "#print(data_df.dtypes)\n",
    "#print(data_df.index)\n",
    "#print(data_df.shape)\n",
    "#print(data_df.columns)\n",
    "#print(data_df.index)\n",
    "#print(data_df)"
   ]
  },
  {
   "cell_type": "code",
   "execution_count": 4,
   "id": "37015edf",
   "metadata": {},
   "outputs": [],
   "source": [
    "num_lags = 30\n",
    "for i in range(1, num_lags + 1):\n",
    "    data_df[f'GHI_T_{i}'] = data_df['GHI'].shift(i)"
   ]
  },
  {
   "cell_type": "code",
   "execution_count": 5,
   "id": "f356189f",
   "metadata": {},
   "outputs": [],
   "source": [
    "data_df['local_datetime'] = pd.to_datetime(data_df['local_datetime'])\n",
    "data_df.set_index('local_datetime', inplace = True)\n",
    "data_df.drop(['datetime', 'Year'], axis = 1, inplace = True)"
   ]
  },
  {
   "cell_type": "code",
   "execution_count": 6,
   "id": "6d6905fd",
   "metadata": {
    "scrolled": true
   },
   "outputs": [
    {
     "name": "stdout",
     "output_type": "stream",
     "text": [
      "Month                -0.034640\n",
      "Day                  -0.001117\n",
      "Hour                  0.277205\n",
      "Minute                0.002643\n",
      "Temperature           0.459622\n",
      "Alpha                 0.063577\n",
      "AOD                  -0.004848\n",
      "Asymmetry            -0.024196\n",
      "Clearsky DHI          0.387998\n",
      "Clearsky DNI          0.624090\n",
      "Clearsky GHI          0.784214\n",
      "Dew Point             0.037751\n",
      "DHI                   0.194991\n",
      "DNI                   0.662127\n",
      "GHI                   1.000000\n",
      "Ozone                -0.026149\n",
      "Relative Humidity    -0.574184\n",
      "Solar Zenith Angle   -0.757638\n",
      "SSA                  -0.079937\n",
      "Surface Albedo       -0.108173\n",
      "Pressure              0.096500\n",
      "Precipitable Water    0.064632\n",
      "Wind Direction       -0.131477\n",
      "Wind Speed            0.054686\n",
      "Kcs                   0.527771\n",
      "GHI_T_1               0.963310\n",
      "GHI_T_2               0.932433\n",
      "GHI_T_3               0.899824\n",
      "GHI_T_4               0.864569\n",
      "GHI_T_5               0.825914\n",
      "GHI_T_6               0.783926\n",
      "GHI_T_7               0.738872\n",
      "GHI_T_8               0.691098\n",
      "GHI_T_9               0.640605\n",
      "GHI_T_10              0.588087\n",
      "GHI_T_11              0.534076\n",
      "GHI_T_12              0.479050\n",
      "GHI_T_13              0.422001\n",
      "GHI_T_14              0.364686\n",
      "GHI_T_15              0.306795\n",
      "GHI_T_16              0.249450\n",
      "GHI_T_17              0.192293\n",
      "GHI_T_18              0.136048\n",
      "GHI_T_19              0.081372\n",
      "GHI_T_20              0.028369\n",
      "GHI_T_21             -0.022065\n",
      "GHI_T_22             -0.070577\n",
      "GHI_T_23             -0.116183\n",
      "GHI_T_24             -0.158574\n",
      "GHI_T_25             -0.197939\n",
      "GHI_T_26             -0.233559\n",
      "GHI_T_27             -0.265466\n",
      "GHI_T_28             -0.293043\n",
      "GHI_T_29             -0.316324\n",
      "GHI_T_30             -0.335264\n",
      "Name: GHI, dtype: float64\n"
     ]
    }
   ],
   "source": [
    "corr_matrix = data_df.corr()\n",
    "print(corr_matrix['GHI'])"
   ]
  },
  {
   "cell_type": "code",
   "execution_count": 7,
   "id": "502cf5d6",
   "metadata": {},
   "outputs": [],
   "source": [
    "data_df['Target'] = data_df['GHI'].shift(-12) \n",
    "data_df.dropna(inplace=True)"
   ]
  },
  {
   "cell_type": "code",
   "execution_count": 8,
   "id": "1723236a",
   "metadata": {},
   "outputs": [],
   "source": [
    "scaler = MinMaxScaler(feature_range=(0,1))\n",
    "target = data_df['Target']\n",
    "data_df.drop(['Target'], axis = 1, inplace = True)\n",
    "data_df_scaled = scaler.fit_transform(data_df)\n",
    "data_df_scaled = pd.DataFrame(data_df_scaled, columns=data_df.columns)"
   ]
  },
  {
   "cell_type": "code",
   "execution_count": 9,
   "id": "908c9a72",
   "metadata": {},
   "outputs": [],
   "source": [
    "#print(data_df_scaled)\n",
    "#print(target)"
   ]
  },
  {
   "cell_type": "code",
   "execution_count": 10,
   "id": "d7fcba86",
   "metadata": {},
   "outputs": [],
   "source": [
    "X_train_df, X_test_df, Y_train_df, Y_test_df = train_test_split(data_df_scaled, target, test_size=0.2, shuffle=False)"
   ]
  },
  {
   "cell_type": "code",
   "execution_count": 11,
   "id": "7b7d3f77",
   "metadata": {
    "scrolled": true
   },
   "outputs": [
    {
     "name": "stdout",
     "output_type": "stream",
     "text": [
      "Number of observations in the Training set: 108411\n",
      "Percentage of data in Training set: 79.99985241377274\n",
      "Number of observations in the Test set:  27103\n",
      "Percentage of data in Test set: 20.000147586227254\n"
     ]
    }
   ],
   "source": [
    "print ('Number of observations in the Training set:', len(X_train_df))\n",
    "print ('Percentage of data in Training set:', len(X_train_df)/len(data_df)*100)\n",
    "print ('Number of observations in the Test set: ', len(X_test_df))\n",
    "print ('Percentage of data in Test set:', len(X_test_df)/len(data_df)*100)"
   ]
  },
  {
   "cell_type": "code",
   "execution_count": 12,
   "id": "e0647c61",
   "metadata": {},
   "outputs": [],
   "source": [
    "def MAPError(y_true, y_pred): \n",
    "    y_true, y_pred = np.array(y_true), np.array(y_pred)\n",
    "    return np.mean((np.abs(y_true - y_pred)) / (y_true)) * 100"
   ]
  },
  {
   "cell_type": "code",
   "execution_count": 14,
   "id": "f553e102",
   "metadata": {
    "scrolled": true
   },
   "outputs": [
    {
     "name": "stdout",
     "output_type": "stream",
     "text": [
      "Index(['Hour', 'GHI', 'GHI_T_1', 'Kcs', 'DNI', 'Clearsky GHI', 'GHI_T_2',\n",
      "       'Solar Zenith Angle', 'GHI_T_24', 'GHI_T_23', 'Month', 'Temperature',\n",
      "       'GHI_T_14', 'GHI_T_21', 'GHI_T_15', 'GHI_T_11', 'SSA', 'Pressure',\n",
      "       'GHI_T_22', 'Relative Humidity', 'GHI_T_13'],\n",
      "      dtype='object')\n"
     ]
    }
   ],
   "source": [
    "from sklearn.ensemble import ExtraTreesRegressor\n",
    "\n",
    "# Train model\n",
    "etr = ExtraTreesRegressor()\n",
    "etr.fit(X_train_df, Y_train_df)\n",
    "\n",
    "# Get feature importance\n",
    "importances = etr.feature_importances_\n",
    "feature_names = X_train_df.columns\n",
    "\n",
    "# Sort and plot\n",
    "feat_imp = pd.Series(importances, index=feature_names).sort_values(ascending=False)\n",
    "top_features = feat_imp[feat_imp > 0.01].index\n",
    "print(top_features)"
   ]
  },
  {
   "cell_type": "code",
   "execution_count": 15,
   "id": "8f1e6fd5",
   "metadata": {},
   "outputs": [
    {
     "name": "stdout",
     "output_type": "stream",
     "text": [
      "Classifier fitted in 1.03 seconds\n",
      "Score on Training data : 60.01%\n",
      "Score on Testing data : 61.45%\n",
      "RMSE : 166.614\n",
      "MAE: 129.657651\n",
      "MAPE: 120.246025\n"
     ]
    }
   ],
   "source": [
    "from sklearn.linear_model import LinearRegression\n",
    "\n",
    "benchmark_model = LinearRegression() #object of class LinearRegression\n",
    "\n",
    "start = time()\n",
    "benchmark_model.fit(X_train_df, Y_train_df) #Fit object to training set\n",
    "end = time()\n",
    "\n",
    "Y_pred=benchmark_model.predict(X_test_df)\n",
    "print(\"Classifier fitted in {:.2f} seconds\".format(end-start))\n",
    "print(\"Score on Training data : {:.2f}%\".format(benchmark_model.score(X_train_df, Y_train_df) * 100))\n",
    "print(\"Score on Testing data : {:.2f}%\".format(benchmark_model.score(X_test_df, Y_test_df) * 100))\n",
    "\n",
    "print(\"RMSE : {:.3f}\".format(np.sqrt(np.mean((Y_test_df - Y_pred)**2))))\n",
    "mae = mean_absolute_error(Y_test_df, Y_pred)\n",
    "print('MAE: %f' % mae)\n",
    "mape=MAPError(Y_test_df, Y_pred)\n",
    "print('MAPE: %f' % mape)"
   ]
  },
  {
   "cell_type": "code",
   "execution_count": null,
   "id": "ddb45147",
   "metadata": {
    "scrolled": true
   },
   "outputs": [],
   "source": [
    "pd.DataFrame(benchmark_model.coef_,X_train_df.columns,columns=['Coeff'])"
   ]
  },
  {
   "cell_type": "code",
   "execution_count": 16,
   "id": "dacb55e6",
   "metadata": {
    "scrolled": true
   },
   "outputs": [
    {
     "name": "stdout",
     "output_type": "stream",
     "text": [
      "Features: Index(['Month', 'Day', 'Hour', 'Minute', 'Temperature', 'Alpha', 'AOD',\n",
      "       'Asymmetry', 'Clearsky DHI', 'Clearsky DNI', 'Clearsky GHI',\n",
      "       'Dew Point', 'DHI', 'DNI', 'GHI', 'Ozone', 'Relative Humidity',\n",
      "       'Solar Zenith Angle', 'SSA', 'Surface Albedo', 'Pressure',\n",
      "       'Precipitable Water', 'Wind Direction', 'Wind Speed', 'Kcs', 'GHI_T_1',\n",
      "       'GHI_T_2', 'GHI_T_3', 'GHI_T_4', 'GHI_T_5', 'GHI_T_6', 'GHI_T_7',\n",
      "       'GHI_T_8', 'GHI_T_9', 'GHI_T_10', 'GHI_T_11', 'GHI_T_12', 'GHI_T_13',\n",
      "       'GHI_T_14', 'GHI_T_15', 'GHI_T_16', 'GHI_T_17', 'GHI_T_18', 'GHI_T_19',\n",
      "       'GHI_T_20', 'GHI_T_21', 'GHI_T_22', 'GHI_T_23', 'GHI_T_24', 'GHI_T_25',\n",
      "       'GHI_T_26', 'GHI_T_27', 'GHI_T_28', 'GHI_T_29', 'GHI_T_30'],\n",
      "      dtype='object')\n",
      "Num Features: 10\n",
      "Selected Features: [False False False False False False  True False False  True False  True\n",
      " False False  True False  True  True False False  True  True False False\n",
      " False False False False False False False False False False False False\n",
      "  True False False False False  True False False False False False False\n",
      " False False False False False False False]\n",
      "Feature Ranking: [28 46  5 42  7 43  1 23 36  1 11  1  8  9  1  3  1  1  4 21  1  1 19 40\n",
      " 10 16 35 41 34 25 14 27  2 30 15 24  1 26 18  6 22  1 32 20 33 12 29 38\n",
      " 17 31 37 44 45 39 13]\n",
      "Selected columns: ['AOD', 'Clearsky DNI', 'Dew Point', 'GHI', 'Relative Humidity', 'Solar Zenith Angle', 'Pressure', 'Precipitable Water', 'GHI_T_12', 'GHI_T_17']\n"
     ]
    }
   ],
   "source": [
    "from sklearn.linear_model import LinearRegression\n",
    "from sklearn.feature_selection import RFE\n",
    "\n",
    "if __name__ == \"__main__\":\n",
    "    \n",
    "    lr = LinearRegression()\n",
    "    rfe = RFE(estimator=lr, n_features_to_select=10)  \n",
    "    fit = rfe.fit(X_train_df, Y_train_df)\n",
    "    print(\"Features: {features}\".format(features=X_train_df.columns))\n",
    "    print(\"Num Features: {number_features}\".format(number_features=fit.n_features_))\n",
    "    print(\"Selected Features: {support}\".format(support=fit.support_))\n",
    "    print(\"Feature Ranking: {ranking}\".format(ranking=fit.ranking_))\n",
    "\n",
    "    selected_columns = [column for column, selected in zip(X_train_df.columns, fit.support_) if selected]\n",
    "    print(\"Selected columns: {selected}\".format(selected = selected_columns))"
   ]
  },
  {
   "cell_type": "code",
   "execution_count": 17,
   "id": "69416e9e",
   "metadata": {
    "scrolled": true
   },
   "outputs": [
    {
     "name": "stdout",
     "output_type": "stream",
     "text": [
      "{'GHI_T_23', 'Clearsky DNI', 'GHI_T_12', 'GHI_T_22', 'Month', 'Hour', 'Kcs', 'Clearsky GHI', 'GHI', 'GHI_T_15', 'Dew Point', 'GHI_T_13', 'SSA', 'GHI_T_14', 'Relative Humidity', 'GHI_T_2', 'GHI_T_24', 'GHI_T_1', 'DNI', 'Precipitable Water', 'Solar Zenith Angle', 'GHI_T_17', 'GHI_T_11', 'Temperature', 'GHI_T_21', 'Pressure', 'AOD'}\n"
     ]
    }
   ],
   "source": [
    "selected_rfe = set(selected_columns)\n",
    "selected_etr = set(top_features)\n",
    "final_features = selected_rfe.union(selected_etr)\n",
    "print(final_features)\n",
    "final_df = data_df_scaled[final_features]"
   ]
  },
  {
   "cell_type": "code",
   "execution_count": 18,
   "id": "456c1ff0",
   "metadata": {},
   "outputs": [],
   "source": [
    "X_train_df, X_test_df, Y_train_df, Y_test_df = train_test_split(final_df, target, test_size=0.2, shuffle=False)"
   ]
  },
  {
   "cell_type": "code",
   "execution_count": 19,
   "id": "5e66694a",
   "metadata": {},
   "outputs": [
    {
     "name": "stdout",
     "output_type": "stream",
     "text": [
      "Classifier fitted in 0.38 seconds\n",
      "Score on Training data : 58.09%\n",
      "Score on Testing data : 60.55%\n",
      "RMSE : 168.555\n",
      "MAE: 131.429652\n",
      "MAPE: 123.618360\n"
     ]
    }
   ],
   "source": [
    "from sklearn.linear_model import LinearRegression\n",
    "\n",
    "benchmark_model = LinearRegression() #object of class LinearRegression\n",
    "\n",
    "start = time()\n",
    "benchmark_model.fit(X_train_df, Y_train_df) #Fit object to training set\n",
    "end = time()\n",
    "\n",
    "Y_pred=benchmark_model.predict(X_test_df)\n",
    "print(\"Classifier fitted in {:.2f} seconds\".format(end-start))\n",
    "print(\"Score on Training data : {:.2f}%\".format(benchmark_model.score(X_train_df, Y_train_df) * 100))\n",
    "print(\"Score on Testing data : {:.2f}%\".format(benchmark_model.score(X_test_df, Y_test_df) * 100))\n",
    "\n",
    "print(\"RMSE : {:.3f}\".format(np.sqrt(np.mean((Y_test_df - Y_pred)**2))))\n",
    "mae = mean_absolute_error(Y_test_df, Y_pred)\n",
    "print('MAE: %f' % mae)\n",
    "mape=MAPError(Y_test_df, Y_pred)\n",
    "print('MAPE: %f' % mape)"
   ]
  },
  {
   "cell_type": "code",
   "execution_count": 20,
   "id": "44d98552",
   "metadata": {},
   "outputs": [],
   "source": [
    "# Function to fit the regressor and record performance metrics\n",
    "def pipeline(reg, X_train_df, Y_train_df, X_test_df, Y_test_df, **kwargs):\n",
    "    \n",
    "    # Dictionary to hold properties of Models\n",
    "    reg_props = {}\n",
    "    \n",
    "    # Initialize and fit the regressor, and time taken\n",
    "    regressor = reg(**kwargs)\n",
    "    start = time()\n",
    "    regressor.fit(X_train_df, Y_train_df)\n",
    "    end = time()\n",
    "    \n",
    "    # Store the metrics for the regressor\n",
    "    reg_props[\"name\"] = reg.__name__\n",
    "    reg_props[\"train_time\"] = end - start\n",
    "    reg_props[\"train_score\"] = regressor.score(X_train_df, Y_train_df)\n",
    "    reg_props[\"test_score\"] = regressor.score(X_test_df, Y_test_df)\n",
    "    reg_props[\"rmse\"] = np.sqrt(mean_squared_error(Y_test_df, regressor.predict(X_test_df)))\n",
    "    reg_props[\"MAE\"] = mean_absolute_error(Y_test_df, regressor.predict(X_test_df))\n",
    "    reg_props[\"MAPE\"] = MAPError(Y_test_df, regressor.predict(X_test_df))\n",
    "    \n",
    "    return reg_props"
   ]
  },
  {
   "cell_type": "code",
   "execution_count": 21,
   "id": "61288d9a",
   "metadata": {},
   "outputs": [],
   "source": [
    "from sklearn.linear_model import Ridge, LinearRegression\n",
    "from sklearn.svm import SVR\n",
    "from sklearn.neighbors import KNeighborsRegressor\n",
    "from sklearn.ensemble import RandomForestRegressor, GradientBoostingRegressor, ExtraTreesRegressor\n",
    "from sklearn.neural_network import MLPRegressor\n",
    "\n",
    "# Function to execute each algorithm through the pipeline\n",
    "def execute_pipeline():\n",
    "    # Create the list of algorithms\n",
    "    regressors = [\n",
    "        (Ridge, {\"alpha\": 0.8}),\n",
    "        (KNeighborsRegressor, {\"n_neighbors\": 5, \"weights\": \"uniform\", \"metric\": \"euclidean\"}),\n",
    "        (RandomForestRegressor, {\"n_estimators\": 125, \"max_depth\": 100, \"min_samples_split\": 4, \"min_samples_leaf\": 4}),\n",
    "        (GradientBoostingRegressor, {\"n_estimators\": 125, \"max_depth\": 75, \"min_samples_split\": 4, \"min_samples_leaf\": 4}),\n",
    "        (MLPRegressor, {\"activation\": \"relu\", \"solver\": \"adam\", \"batch_size\": 150, \"max_iter\": 300, \"learning_rate_init\": 0.005}),\n",
    "        (ExtraTreesRegressor, {\"n_estimators\": 125, \"max_depth\": 100, \"min_samples_split\": 4, \"min_samples_leaf\": 4})\n",
    "    ]\n",
    "    \n",
    "    print(\"Executing pipeline for multiple regressors...\\n\")\n",
    "    \n",
    "    # To store the properties for each regressor\n",
    "    props = []\n",
    "    \n",
    "    \"\"\"\n",
    "    Iterate thorugh the list of regressors,\n",
    "    passing each thorugh the pipeline and\n",
    "    storing its properites\n",
    "    \"\"\" \n",
    "    for reg, params in regressors:\n",
    "        print(f\"Running model: {reg.__name__}\")\n",
    "        properties = pipeline(reg, X_train_df, Y_train_df, X_test_df, Y_test_df, **params)\n",
    "        props.append(properties)\n",
    "        \n",
    "    print(\"\\nPipeline execution completed.\")\n",
    "        \n",
    "    return props"
   ]
  },
  {
   "cell_type": "code",
   "execution_count": 22,
   "id": "62bc5bbd",
   "metadata": {},
   "outputs": [],
   "source": [
    "from sklearn.linear_model import Ridge, LinearRegression\n",
    "from sklearn.svm import SVR\n",
    "from sklearn.neighbors import KNeighborsRegressor\n",
    "from sklearn.ensemble import RandomForestRegressor, GradientBoostingRegressor, ExtraTreesRegressor\n",
    "from sklearn.neural_network import MLPRegressor\n",
    "\n",
    "# Function to execute each algorithm through the pipeline\n",
    "def sample_execute_pipeline():\n",
    "    # Create the list of algorithms\n",
    "    regressors = [\n",
    "        Ridge,\n",
    "        KNeighborsRegressor,\n",
    "        RandomForestRegressor,\n",
    "        GradientBoostingRegressor,\n",
    "        MLPRegressor,\n",
    "        ExtraTreesRegressor,\n",
    "            ]\n",
    "    \n",
    "    print(\"Executing pipeline for multiple regressors...\\n\")\n",
    "    \n",
    "    # To store the properties for each regressor\n",
    "    props = []\n",
    "    \n",
    "    \"\"\"\n",
    "    Iterate thorugh the list of regressors,\n",
    "    passing each thorugh the pipeline and\n",
    "    storing its properites\n",
    "    \"\"\" \n",
    "    for reg, params in regressors:\n",
    "        print(f\"Running model: {reg.__name__}\")\n",
    "        properties = pipeline(reg, X_train_df, Y_train_df, X_test_df, Y_test_df, **params)\n",
    "        props.append(properties)\n",
    "        \n",
    "    print(\"\\nPipeline execution completed.\")\n",
    "        \n",
    "    return props"
   ]
  },
  {
   "cell_type": "code",
   "execution_count": 23,
   "id": "e7f1d0d4",
   "metadata": {},
   "outputs": [
    {
     "name": "stdout",
     "output_type": "stream",
     "text": [
      "Executing pipeline for multiple regressors...\n",
      "\n",
      "Running model: Ridge\n",
      "Running model: KNeighborsRegressor\n",
      "Running model: RandomForestRegressor\n",
      "Running model: GradientBoostingRegressor\n",
      "Running model: MLPRegressor\n"
     ]
    },
    {
     "name": "stderr",
     "output_type": "stream",
     "text": [
      "/Users/yathinreddy/Desktop/Major_Project/pvpower/lib/python3.7/site-packages/sklearn/neural_network/_multilayer_perceptron.py:696: ConvergenceWarning: Stochastic Optimizer: Maximum iterations (300) reached and the optimization hasn't converged yet.\n",
      "  ConvergenceWarning,\n"
     ]
    },
    {
     "name": "stdout",
     "output_type": "stream",
     "text": [
      "Running model: ExtraTreesRegressor\n",
      "\n",
      "Pipeline execution completed.\n"
     ]
    }
   ],
   "source": [
    "def get_properties():\n",
    "    # Obtain the properties after executing the pipeline\n",
    "    properties = execute_pipeline()\n",
    "    #properties = sample_execute_pipeline()\n",
    "    \n",
    "    # Extract each individual property of the Regressors\n",
    "    names = [prop[\"name\"] for prop in properties]\n",
    "    train_times = [prop[\"train_time\"] for prop in properties]\n",
    "    train_scores = [prop[\"train_score\"] for prop in properties]\n",
    "    test_scores = [prop[\"test_score\"] for prop in properties]\n",
    "    rmse_vals = [prop[\"rmse\"] for prop in properties]\n",
    "    mae_vals = [prop[\"MAE\"] for prop in properties]\n",
    "    mape_vals=[prop[\"MAPE\"] for prop in properties]\n",
    "        \n",
    "    # Create a DataFrame from these properties\n",
    "    df = pd.DataFrame(index=names, \n",
    "                    data = {\n",
    "                            \"Training Times\": train_times,\n",
    "                            \"Training Scores\": train_scores,\n",
    "                            \"Testing Scores\": test_scores,\n",
    "                            \"RMSE\": rmse_vals,\n",
    "                            \"MAE\":mae_vals,\n",
    "                            \"MAPE\":mape_vals\n",
    "                      }\n",
    "                  )\n",
    "    \n",
    "    return df\n",
    "\n",
    "# Obain the properties in a structured DataFrame after executing the pipeline\n",
    "properties = get_properties()\n"
   ]
  },
  {
   "cell_type": "code",
   "execution_count": 24,
   "id": "018f7fcf",
   "metadata": {},
   "outputs": [],
   "source": [
    "# Append the peoperties of Linear Rgression Benchmark model to the DataFrame\n",
    "# Storing the properties of Selected models\n",
    "\n",
    "properties = pd.concat(\n",
    "    [properties,\n",
    "    pd.Series(\n",
    "    {\n",
    "        \"Name\": \"Linear Regression (Benchmark)\",\n",
    "        \"RMSE\": np.sqrt(mean_squared_error(Y_test_df, benchmark_model.predict(X_test_df))),\n",
    "        \"MAE\": mean_absolute_error(Y_test_df, benchmark_model.predict(X_test_df)),\n",
    "        \"MAPE\": MAPError(Y_test_df, benchmark_model.predict(X_test_df)),\n",
    "        \"Training Scores\": benchmark_model.score(X_train_df, Y_train_df),\n",
    "        \"Testing Scores\" :benchmark_model.score(X_test_df, Y_test_df),\n",
    "        \"Training Times\": end - start\n",
    "        \n",
    "    }\n",
    "    ).to_frame().T.set_index([\"Name\"])]\n",
    ")"
   ]
  },
  {
   "cell_type": "code",
   "execution_count": 25,
   "id": "389f5318",
   "metadata": {
    "scrolled": true
   },
   "outputs": [
    {
     "data": {
      "text/html": [
       "<div>\n",
       "<style scoped>\n",
       "    .dataframe tbody tr th:only-of-type {\n",
       "        vertical-align: middle;\n",
       "    }\n",
       "\n",
       "    .dataframe tbody tr th {\n",
       "        vertical-align: top;\n",
       "    }\n",
       "\n",
       "    .dataframe thead th {\n",
       "        text-align: right;\n",
       "    }\n",
       "</style>\n",
       "<table border=\"1\" class=\"dataframe\">\n",
       "  <thead>\n",
       "    <tr style=\"text-align: right;\">\n",
       "      <th></th>\n",
       "      <th>Training Times</th>\n",
       "      <th>Training Scores</th>\n",
       "      <th>Testing Scores</th>\n",
       "      <th>RMSE</th>\n",
       "      <th>MAE</th>\n",
       "      <th>MAPE</th>\n",
       "    </tr>\n",
       "  </thead>\n",
       "  <tbody>\n",
       "    <tr>\n",
       "      <th>Ridge</th>\n",
       "      <td>0.144197</td>\n",
       "      <td>0.580898</td>\n",
       "      <td>0.605311</td>\n",
       "      <td>168.588</td>\n",
       "      <td>131.487</td>\n",
       "      <td>123.656</td>\n",
       "    </tr>\n",
       "    <tr>\n",
       "      <th>KNeighborsRegressor</th>\n",
       "      <td>0.0119982</td>\n",
       "      <td>0.89473</td>\n",
       "      <td>0.702684</td>\n",
       "      <td>146.322</td>\n",
       "      <td>97.7502</td>\n",
       "      <td>93.9593</td>\n",
       "    </tr>\n",
       "    <tr>\n",
       "      <th>RandomForestRegressor</th>\n",
       "      <td>285.538</td>\n",
       "      <td>0.946574</td>\n",
       "      <td>0.785246</td>\n",
       "      <td>124.357</td>\n",
       "      <td>82.9721</td>\n",
       "      <td>83.2647</td>\n",
       "    </tr>\n",
       "    <tr>\n",
       "      <th>GradientBoostingRegressor</th>\n",
       "      <td>997.871</td>\n",
       "      <td>0.999995</td>\n",
       "      <td>0.737066</td>\n",
       "      <td>137.602</td>\n",
       "      <td>90.4619</td>\n",
       "      <td>85.7713</td>\n",
       "    </tr>\n",
       "    <tr>\n",
       "      <th>MLPRegressor</th>\n",
       "      <td>153.824</td>\n",
       "      <td>0.770022</td>\n",
       "      <td>0.784294</td>\n",
       "      <td>124.632</td>\n",
       "      <td>87.6942</td>\n",
       "      <td>82.2852</td>\n",
       "    </tr>\n",
       "    <tr>\n",
       "      <th>ExtraTreesRegressor</th>\n",
       "      <td>59.1833</td>\n",
       "      <td>0.95871</td>\n",
       "      <td>0.792123</td>\n",
       "      <td>122.35</td>\n",
       "      <td>81.7928</td>\n",
       "      <td>83.2002</td>\n",
       "    </tr>\n",
       "    <tr>\n",
       "      <th>Linear Regression (Benchmark)</th>\n",
       "      <td>0.378784</td>\n",
       "      <td>0.5809</td>\n",
       "      <td>0.605467</td>\n",
       "      <td>168.555</td>\n",
       "      <td>131.43</td>\n",
       "      <td>123.618</td>\n",
       "    </tr>\n",
       "  </tbody>\n",
       "</table>\n",
       "</div>"
      ],
      "text/plain": [
       "                              Training Times Training Scores Testing Scores  \\\n",
       "Ridge                               0.144197        0.580898       0.605311   \n",
       "KNeighborsRegressor                0.0119982         0.89473       0.702684   \n",
       "RandomForestRegressor                285.538        0.946574       0.785246   \n",
       "GradientBoostingRegressor            997.871        0.999995       0.737066   \n",
       "MLPRegressor                         153.824        0.770022       0.784294   \n",
       "ExtraTreesRegressor                  59.1833         0.95871       0.792123   \n",
       "Linear Regression (Benchmark)       0.378784          0.5809       0.605467   \n",
       "\n",
       "                                  RMSE      MAE     MAPE  \n",
       "Ridge                          168.588  131.487  123.656  \n",
       "KNeighborsRegressor            146.322  97.7502  93.9593  \n",
       "RandomForestRegressor          124.357  82.9721  83.2647  \n",
       "GradientBoostingRegressor      137.602  90.4619  85.7713  \n",
       "MLPRegressor                   124.632  87.6942  82.2852  \n",
       "ExtraTreesRegressor             122.35  81.7928  83.2002  \n",
       "Linear Regression (Benchmark)  168.555   131.43  123.618  "
      ]
     },
     "execution_count": 25,
     "metadata": {},
     "output_type": "execute_result"
    }
   ],
   "source": [
    "properties"
   ]
  },
  {
   "cell_type": "markdown",
   "id": "d7216e98",
   "metadata": {},
   "source": [
    "# Performance Of Models"
   ]
  },
  {
   "cell_type": "code",
   "execution_count": null,
   "id": "27dbc1d8",
   "metadata": {},
   "outputs": [],
   "source": [
    "# Plot to compare thePerformance of Algorithms\n",
    "sns.set_context(\"notebook\", font_scale=1.7)\n",
    "plt.figure(figsize=(18,13))\n",
    "\n",
    "plt.subplot(2,2,1)\n",
    "plt.ylabel(\"RMSE OF Regressors\")\n",
    "properties[\"RMSE\"].plot(kind=\"barh\", color='#4d80b3');\n",
    "sns.despine(left=True)\n",
    "plt.tight_layout()\n",
    "\n",
    "\n",
    "plt.subplot(2,2,2)\n",
    "plt.ylabel(\"MAE OF Regressors\")\n",
    "properties[\"MAE\"].plot(kind=\"barh\", color='#4d80b3');\n",
    "sns.despine(left=True)\n",
    "plt.tight_layout()\n",
    "\n",
    "plt.subplot(2,2,3)\n",
    "plt.ylabel(\"MAPE OF Regressors\")\n",
    "properties[\"MAPE\"].plot(kind=\"barh\", color='#4d80b3');\n",
    "sns.despine(left=True)\n",
    "plt.tight_layout()\n",
    "\n",
    "plt.subplot(2,2,4)\n",
    "plt.ylabel(\"Training Time of Regressors\")\n",
    "properties[\"Training Times\"].plot(kind=\"barh\", color='#4d80b3');\n",
    "sns.despine(left=True)\n",
    "plt.tight_layout()"
   ]
  },
  {
   "cell_type": "code",
   "execution_count": null,
   "id": "4e3b43ef",
   "metadata": {},
   "outputs": [],
   "source": [
    "sns.set_style('white')\n",
    "sns.set_context(\"paper\", font_scale=1.3)  \n",
    "\n",
    "ax= properties[[\"MAE\", \"RMSE\"]].plot(kind=\"barh\", color=['#9491B5', '#685CF4'], title=\"Performance of Regressor\", figsize=(10, 4))\n",
    "sns.despine(left=True);\n",
    "plt.tight_layout() \n",
    "\n",
    "plt.show()"
   ]
  },
  {
   "cell_type": "code",
   "execution_count": 26,
   "id": "78629547",
   "metadata": {},
   "outputs": [
    {
     "name": "stdout",
     "output_type": "stream",
     "text": [
      "Fitting 3 folds for each of 10 candidates, totalling 30 fits\n"
     ]
    },
    {
     "data": {
      "text/plain": [
       "RandomizedSearchCV(cv=3, estimator=ExtraTreesRegressor(), n_jobs=-1,\n",
       "                   param_distributions={'max_depth': [50, 100, 150, 200, 250],\n",
       "                                        'max_features': ['auto', 'sqrt',\n",
       "                                                         'log2'],\n",
       "                                        'n_estimators': [10, 50, 75, 100, 150]},\n",
       "                   scoring='neg_mean_squared_error', verbose=1)"
      ]
     },
     "execution_count": 26,
     "metadata": {},
     "output_type": "execute_result"
    }
   ],
   "source": [
    "from sklearn.model_selection import RandomizedSearchCV\n",
    "\n",
    "# Initialize the best performing regressor\n",
    "clf = ExtraTreesRegressor()\n",
    "\n",
    "# Define the parameter subset\n",
    "param_grid = {\n",
    "    \"n_estimators\": [10, 50, 75, 100, 150],\n",
    "    \"max_features\": [\"auto\", \"sqrt\", \"log2\"],\n",
    "    \"max_depth\": [50, 100,150, 200, 250]\n",
    "}\n",
    "\n",
    "# Use Randomized search to try 10 subsets from parameter space with 3-fold cross validation\n",
    "grid_search = RandomizedSearchCV(clf, param_grid, n_iter=10, scoring=\"neg_mean_squared_error\", cv=3, n_jobs=-1, verbose=1)\n",
    "grid_search.fit(X_train_df, Y_train_df)\n"
   ]
  },
  {
   "cell_type": "code",
   "execution_count": 27,
   "id": "4286604c",
   "metadata": {},
   "outputs": [
    {
     "name": "stdout",
     "output_type": "stream",
     "text": [
      "Parameters of Best Regressor : {'n_estimators': 150, 'max_features': 'auto', 'max_depth': 200}\n"
     ]
    }
   ],
   "source": [
    "#Display Best Params\n",
    "print(\"Parameters of Best Regressor : {}\".format(grid_search.best_params_))"
   ]
  },
  {
   "cell_type": "code",
   "execution_count": 28,
   "id": "9c26400b",
   "metadata": {},
   "outputs": [
    {
     "name": "stdout",
     "output_type": "stream",
     "text": [
      "Mean Absolute Error: 83.6580602393339\n",
      "Mean Squared Error: 123.79195154957219\n",
      "Mean Absolute Percentage Error: 84.22741600654271\n"
     ]
    }
   ],
   "source": [
    "best_model = grid_search.best_estimator_\n",
    "print('Mean Absolute Error:', mean_absolute_error(Y_test_df, best_model.predict(X_test_df)))\n",
    "print('Mean Squared Error:',np.sqrt(mean_squared_error(Y_test_df, best_model.predict(X_test_df))))\n",
    "print('Mean Absolute Percentage Error:',MAPError(Y_test_df, best_model.predict(X_test_df)))"
   ]
  },
  {
   "cell_type": "code",
   "execution_count": 29,
   "id": "b29bdbcb",
   "metadata": {},
   "outputs": [
    {
     "name": "stdout",
     "output_type": "stream",
     "text": [
      "Most important feature = Hour\n",
      "Least important feature = Clearsky DNI\n"
     ]
    }
   ],
   "source": [
    "# Find the index of most and least important feature and display that column\n",
    "print(\"Most important feature = {}\".format(X_train_df.columns[np.argmax(best_model.feature_importances_)]))\n",
    "print(\"Least important feature = {}\".format(X_train_df.columns[np.argmin(best_model.feature_importances_)]))\n",
    "\n",
    "# Get the indices based on feature importance in ascending order \n",
    "feature_indices = np.argsort(best_model.feature_importances_)\n",
    "\n",
    "#print(\"\\nTop 5 most important features:-\")\n",
    "# Reverse the array to get important features at the beginning\n",
    "#for index in feature_indices[::-1][:5]:\n",
    "    #print(X_train.columns[index])\n",
    "    \n",
    "#print(\"\\nTop 5 least important features:-\")\n",
    "#for index in feature_indices[:5]:\n",
    "    #print(X_train.columns[index])"
   ]
  },
  {
   "cell_type": "code",
   "execution_count": 30,
   "id": "11fdbf9f",
   "metadata": {},
   "outputs": [
    {
     "data": {
      "image/png": "[encoded data removed]",
      "text/plain": [
       "<Figure size 1600x800 with 1 Axes>"
      ]
     },
     "metadata": {},
     "output_type": "display_data"
    }
   ],
   "source": [
    "fi = pd.DataFrame(index=X_train_df.columns[feature_indices], data=np.sort(best_model.feature_importances_))\n",
    "fi.sort_values(by=0, ascending=False)\n",
    "fi.head()\n",
    "# Plot feature importance\n",
    "fi = pd.DataFrame(index=X_train_df.columns[feature_indices], data=np.sort(best_model.feature_importances_))\n",
    "fi.sort_values(by=0, ascending=False, inplace=True)\n",
    "ax = fi.plot(kind=\"bar\", title=\"Feature Importances\", figsize=(16, 8))\n",
    "ax.set_ylabel(\"Values\", fontsize=\"large\")\n",
    "ax.legend_.remove()"
   ]
  },
  {
   "cell_type": "code",
   "execution_count": 31,
   "id": "86ad9c99",
   "metadata": {},
   "outputs": [
    {
     "name": "stdout",
     "output_type": "stream",
     "text": [
      "                           0\n",
      "Hour                0.277454\n",
      "GHI                 0.152924\n",
      "GHI_T_1             0.069961\n",
      "DNI                 0.036122\n",
      "Clearsky GHI        0.034940\n",
      "Kcs                 0.034164\n",
      "GHI_T_2             0.030575\n",
      "Solar Zenith Angle  0.026450\n",
      "GHI_T_23            0.026147\n",
      "Month               0.023324\n",
      "GHI_T_22            0.023073\n",
      "GHI_T_21            0.021032\n",
      "Temperature         0.020245\n",
      "GHI_T_11            0.020113\n",
      "GHI_T_13            0.018759\n",
      "Pressure            0.018563\n",
      "GHI_T_24            0.018137\n",
      "SSA                 0.017870\n",
      "GHI_T_12            0.017793\n",
      "GHI_T_14            0.017409\n",
      "Relative Humidity   0.016542\n",
      "Precipitable Water  0.015934\n",
      "Dew Point           0.013416\n",
      "AOD                 0.012917\n",
      "GHI_T_15            0.012277\n",
      "GHI_T_17            0.011989\n",
      "Clearsky DNI        0.011868\n"
     ]
    }
   ],
   "source": [
    "print(fi)"
   ]
  },
  {
   "cell_type": "code",
   "execution_count": null,
   "id": "096ea306",
   "metadata": {},
   "outputs": [],
   "source": []
  }
 ],
 "metadata": {
  "kernelspec": {
   "display_name": "Python 3 (ipykernel)",
   "language": "python",
   "name": "python3"
  },
  "language_info": {
   "codemirror_mode": {
    "name": "ipython",
    "version": 3
   },
   "file_extension": ".py",
   "mimetype": "text/x-python",
   "name": "python",
   "nbconvert_exporter": "python",
   "pygments_lexer": "ipython3",
   "version": "3.7.0"
  }
 },
 "nbformat": 4,
 "nbformat_minor": 5
}
