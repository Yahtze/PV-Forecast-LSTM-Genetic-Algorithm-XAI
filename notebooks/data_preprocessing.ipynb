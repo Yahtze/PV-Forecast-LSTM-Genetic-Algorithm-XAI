{
 "cells": [
  {
   "cell_type": "code",
   "execution_count": null,
   "id": "initial_id",
   "metadata": {},
   "outputs": [],
   "source": [
    "!python --version\n",
    "!pip list | grep tensorflow"
   ]
  },
  {
   "cell_type": "code",
   "execution_count": null,
   "id": "43b0a5b1",
   "metadata": {},
   "outputs": [],
   "source": [
    "import pandas as pd\n",
    "import numpy as np\n",
    "import pytz"
   ]
  },
  {
   "cell_type": "code",
   "execution_count": null,
   "id": "a9f92f2f",
   "metadata": {},
   "outputs": [],
   "source": [
    "data_src_2018 = \"../data/raw/solar_data_2018.csv\"\n",
    "data_df_2018 = pd.read_csv(data_src_2018)\n",
    "df_headers = data_df_2018.iloc[:1]"
   ]
  },
  {
   "cell_type": "code",
   "execution_count": null,
   "id": "7ccf340f",
   "metadata": {},
   "outputs": [],
   "source": [
    "print(df_headers.head())\n",
    "print(df_headers.columns)"
   ]
  },
  {
   "cell_type": "code",
   "execution_count": null,
   "id": "49506e95",
   "metadata": {},
   "outputs": [],
   "source": [
    "data_frames = {}\n",
    "\n",
    "# Load and process data\n",
    "for year in range(2018, 2024):\n",
    "    data_src = f\"../data/raw/solar_data_{year}.csv\"\n",
    "    data_frames[year] = pd.read_csv(data_src)\n",
    "\n",
    "    # Process the DataFrame\n",
    "    data_frames[year] = data_frames[year].iloc[1:]  # Remove first row\n",
    "    data_frames[year].columns = data_frames[year].iloc[0]  # Set column names\n",
    "    data_frames[year] = data_frames[year][1:]  # Drop first row after setting headers\n",
    "    data_frames[year].reset_index(drop=True, inplace=True)  # Reset index\n"
   ]
  },
  {
   "cell_type": "code",
   "execution_count": null,
   "id": "21b97239",
   "metadata": {},
   "outputs": [],
   "source": [
    "# Concatenate all DataFrames into one\n",
    "data_df = pd.concat(data_frames.values(), ignore_index=True)\n",
    "\n",
    "# Optionally, save to a new CSV file\n",
    "data_df.to_csv(\"../data/preprocessed/solar_data_combined.csv\", index=False)"
   ]
  },
  {
   "cell_type": "code",
   "execution_count": null,
   "id": "5fb72d1c",
   "metadata": {},
   "outputs": [],
   "source": [
    "print(data_df.shape)"
   ]
  },
  {
   "cell_type": "code",
   "execution_count": null,
   "id": "ff77dfa9",
   "metadata": {},
   "outputs": [],
   "source": [
    "#Drop Columns With All Values NaN\n",
    "df_cleaned = data_df.dropna(axis=1, how=\"all\")\n",
    "print(df_cleaned.head())"
   ]
  },
  {
   "cell_type": "code",
   "execution_count": null,
   "id": "3e208b27",
   "metadata": {},
   "outputs": [],
   "source": [
    "# Convert all columns to float, replacing non-numeric values with NaN\n",
    "df_cleaned = df_cleaned.apply(pd.to_numeric, errors='coerce')\n",
    "print(df_cleaned.dtypes)"
   ]
  },
  {
   "cell_type": "code",
   "execution_count": null,
   "id": "119a45a8",
   "metadata": {},
   "outputs": [],
   "source": [
    "#Join The Date Columns Into A Single Column Called DateTime\n",
    "df_cleaned['datetime'] = pd.to_datetime(df_cleaned[['Year', 'Month', 'Day', 'Hour', 'Minute']])"
   ]
  },
  {
   "cell_type": "code",
   "execution_count": null,
   "id": "5aef1639",
   "metadata": {},
   "outputs": [],
   "source": [
    "local_time_zone = 'America/Denver'\n",
    "# Convert UTC to local time\n",
    "df_cleaned['local_datetime'] = df_cleaned['datetime'].dt.tz_localize('UTC').dt.tz_convert(local_time_zone)\n",
    "df_cleaned['local_datetime'] = df_cleaned['local_datetime'].dt.tz_localize(None)"
   ]
  },
  {
   "cell_type": "code",
   "execution_count": null,
   "id": "4fabe785",
   "metadata": {},
   "outputs": [],
   "source": [
    "print(df_cleaned)"
   ]
  },
  {
   "cell_type": "code",
   "execution_count": null,
   "id": "84d55614",
   "metadata": {},
   "outputs": [],
   "source": [
    "# Reorder the columns to make 'datetime' the first column\n",
    "# Create a list of the columns you want to keep in the specific order\n",
    "columns_order = ['datetime', 'local_datetime'] + [col for col in df_cleaned.columns if col not in ['datetime', 'local_datetime']]\n",
    "\n",
    "# Reorder the DataFrame columns based on the list\n",
    "df_cleaned = df_cleaned[columns_order]"
   ]
  },
  {
   "cell_type": "code",
   "execution_count": null,
   "id": "7c28f795",
   "metadata": {},
   "outputs": [],
   "source": [
    "print(df_cleaned)"
   ]
  },
  {
   "cell_type": "code",
   "execution_count": null,
   "id": "9fdaf546",
   "metadata": {},
   "outputs": [],
   "source": [
    "#Testing\n",
    "print(\"Number Of NaN Measurements: \" + str(df_cleaned.isnull().sum()))"
   ]
  },
  {
   "cell_type": "code",
   "execution_count": null,
   "id": "88bc7730",
   "metadata": {},
   "outputs": [],
   "source": [
    "#Removal Of Rows With Fill Flag != 0\n",
    "print(\"Number Of Rows With Fill Flag Error (Before Removal): \", (df_cleaned['Fill Flag'] != 0).sum())\n",
    "df_cleaned = df_cleaned[df_cleaned[\"Fill Flag\"] == 0]\n",
    "print(\"Number Of Rows With Fill Flag Error (After Removal): \", (df_cleaned['Fill Flag'] != 0).sum())"
   ]
  },
  {
   "cell_type": "code",
   "execution_count": null,
   "id": "a723c36b",
   "metadata": {},
   "outputs": [],
   "source": [
    "print(df_cleaned.shape)"
   ]
  },
  {
   "cell_type": "code",
   "execution_count": 50,
   "id": "f5f806ae",
   "metadata": {},
   "outputs": [],
   "source": [
    "#The Cloud Type, Cloud Fill Flag and Fill Flags are dropped\n",
    "df_cleaned = df_cleaned.drop(columns=['Cloud Type', 'Cloud Fill Flag', 'Fill Flag'])"
   ]
  },
  {
   "cell_type": "code",
   "execution_count": 52,
   "id": "97525974",
   "metadata": {},
   "outputs": [
    {
     "name": "stdout",
     "output_type": "stream",
     "text": [
      "Number Of Outliers (Above Max): 2116\n",
      "Number Of Outliers (Below Min): 0\n"
     ]
    }
   ],
   "source": [
    "#Identification Of Outliers\n",
    "GHI_max = 1000\n",
    "GHI_min = 0\n",
    "\n",
    "print(\"Number Of Outliers (Above Max): \" + str((df_cleaned['GHI'] > GHI_max).sum()))\n",
    "#print(df_cleaned.loc[df_cleaned['GHI'] > GHI_max, 'GHI'])\n",
    "print(\"Number Of Outliers (Below Min): \" + str((df_cleaned['GHI'] < GHI_min).sum()))\n",
    "#print(df_cleaned.loc[df_cleaned['GHI'] < GHI_min, 'GHI'])"
   ]
  },
  {
   "cell_type": "code",
   "execution_count": 53,
   "id": "6989784f",
   "metadata": {},
   "outputs": [
    {
     "name": "stdout",
     "output_type": "stream",
     "text": [
      "Number Of Outliers (Above Max): 0\n",
      "Updated Number Of Rows:  293707\n"
     ]
    }
   ],
   "source": [
    "#Removal Of Outliers\n",
    "df_cleaned = df_cleaned[(df_cleaned[\"GHI\"] < GHI_max)]\n",
    "print(\"Number Of Outliers (Above Max): \" + str((df_cleaned['GHI'] > GHI_max).sum()))\n",
    "print(\"Updated Number Of Rows: \", df_cleaned.shape[0])"
   ]
  },
  {
   "cell_type": "code",
   "execution_count": 54,
   "id": "ea5615fd",
   "metadata": {},
   "outputs": [
    {
     "name": "stdout",
     "output_type": "stream",
     "text": [
      "Percentage Of Data As Night Measurements: 53%\n",
      "Clear Sky GHI Minimums And Maximums Before Removal Of Night Measurements 0 1064\n"
     ]
    }
   ],
   "source": [
    "#Number Of Night Measurements\n",
    "nb_night_measurements = int(100*df_cleaned[df_cleaned[\"Clearsky GHI\"] < 30].shape[0] / df_cleaned.shape[0])\n",
    "print(\"Percentage Of Data As Night Measurements: \" + str(nb_night_measurements) + \"%\")\n",
    "\n",
    "#Removal Of Night Measurements\n",
    "print(\"Clear Sky GHI Minimums And Maximums Before Removal Of Night Measurements\", df_cleaned[\"Clearsky GHI\"].min(), df_cleaned[\"Clearsky GHI\"].max())\n",
    "df_cleaned = df_cleaned[df_cleaned[\"Clearsky GHI\"] > 30]"
   ]
  },
  {
   "cell_type": "code",
   "execution_count": 55,
   "id": "c246932f",
   "metadata": {},
   "outputs": [
    {
     "name": "stdout",
     "output_type": "stream",
     "text": [
      "Clear Sky GHI Minimums And Maximums After Removal Of Night Measurements 31 1064\n",
      "Updated Number Of Rows:  135556\n"
     ]
    }
   ],
   "source": [
    "#Testing\n",
    "print(\"Clear Sky GHI Minimums And Maximums After Removal Of Night Measurements\", df_cleaned[\"Clearsky GHI\"].min(), df_cleaned[\"Clearsky GHI\"].max())\n",
    "print(\"Updated Number Of Rows: \", df_cleaned.shape[0])"
   ]
  },
  {
   "cell_type": "code",
   "execution_count": 56,
   "id": "1225c29a",
   "metadata": {},
   "outputs": [
    {
     "name": "stdout",
     "output_type": "stream",
     "text": [
      "Kcs Minimums And Maximums 0.014285714285714285 1.0\n"
     ]
    }
   ],
   "source": [
    "#Introduction Of Clear Sky Index\n",
    "df_cleaned['Kcs'] = df_cleaned['GHI'] / df_cleaned[\"Clearsky GHI\"]\n",
    "#print(df_cleaned['Kcs'])\n",
    "df_cleaned.replace([np.inf, -np.inf], 0, inplace = True)\n",
    "print(\"Kcs Minimums And Maximums\", df_cleaned[\"Kcs\"].min(), df_cleaned[\"Kcs\"].max())\n",
    "df_cleaned['Kcs'] = df_cleaned['Kcs'].round(3)"
   ]
  },
  {
   "cell_type": "code",
   "execution_count": 58,
   "id": "cc69acd9",
   "metadata": {},
   "outputs": [],
   "source": [
    "df_cleaned.reset_index(drop=True, inplace=True)"
   ]
  },
  {
   "cell_type": "code",
   "execution_count": 61,
   "id": "8ee2cf6d",
   "metadata": {},
   "outputs": [],
   "source": [
    "df_cleaned = df_cleaned.round(3)"
   ]
  },
  {
   "cell_type": "code",
   "execution_count": 59,
   "id": "c54cd213",
   "metadata": {},
   "outputs": [
    {
     "name": "stdout",
     "output_type": "stream",
     "text": [
      "1                 datetime      local_datetime  Year  Month  Day  Hour  \\\n",
      "0      2018-01-01 16:30:00 2018-01-01 09:30:00  2018      1    1    16   \n",
      "1      2018-01-01 16:40:00 2018-01-01 09:40:00  2018      1    1    16   \n",
      "2      2018-01-01 16:50:00 2018-01-01 09:50:00  2018      1    1    16   \n",
      "3      2018-01-01 17:00:00 2018-01-01 10:00:00  2018      1    1    17   \n",
      "4      2018-01-01 17:10:00 2018-01-01 10:10:00  2018      1    1    17   \n",
      "...                    ...                 ...   ...    ...  ...   ...   \n",
      "135551 2023-12-31 22:00:00 2023-12-31 15:00:00  2023     12   31    22   \n",
      "135552 2023-12-31 22:10:00 2023-12-31 15:10:00  2023     12   31    22   \n",
      "135553 2023-12-31 22:20:00 2023-12-31 15:20:00  2023     12   31    22   \n",
      "135554 2023-12-31 22:30:00 2023-12-31 15:30:00  2023     12   31    22   \n",
      "135555 2023-12-31 22:40:00 2023-12-31 15:40:00  2023     12   31    22   \n",
      "\n",
      "1       Minute  Temperature  Alpha    AOD  ...  Ozone  Relative Humidity  \\\n",
      "0           30         -1.2   1.20  0.021  ...  0.347              34.07   \n",
      "1           40         -0.8   1.20  0.021  ...  0.347              34.81   \n",
      "2           50         -0.3   1.20  0.021  ...  0.346              33.56   \n",
      "3            0          0.1   1.20  0.021  ...  0.346              32.60   \n",
      "4           10          0.5   1.20  0.021  ...  0.345              31.68   \n",
      "...        ...          ...    ...    ...  ...    ...                ...   \n",
      "135551       0          3.1   1.15  0.029  ...  0.326              57.39   \n",
      "135552      10          2.8   1.15  0.029  ...  0.326              58.62   \n",
      "135553      20          2.5   1.15  0.029  ...  0.327              59.88   \n",
      "135554      30          2.2   1.15  0.029  ...  0.327              61.17   \n",
      "135555      40          1.8   1.13  0.029  ...  0.327              56.94   \n",
      "\n",
      "1       Solar Zenith Angle   SSA  Surface Albedo  Pressure  \\\n",
      "0                    72.17  0.91            0.13       830   \n",
      "1                    71.05  0.91            0.13       829   \n",
      "2                    69.98  0.91            0.13       829   \n",
      "3                    68.98  0.91            0.13       829   \n",
      "4                    68.04  0.91            0.13       829   \n",
      "...                    ...   ...             ...       ...   \n",
      "135551               75.10  0.86            0.12       827   \n",
      "135552               76.39  0.86            0.12       827   \n",
      "135553               77.74  0.87            0.12       827   \n",
      "135554               79.12  0.87            0.12       827   \n",
      "135555               80.54  0.87            0.12       827   \n",
      "\n",
      "1       Precipitable Water  Wind Direction  Wind Speed    Kcs  \n",
      "0                      0.4             254         1.1  0.451  \n",
      "1                      0.4             257         0.9  0.561  \n",
      "2                      0.4             259         0.7  0.568  \n",
      "3                      0.4             262         0.5  0.596  \n",
      "4                      0.4             219         0.5  0.607  \n",
      "...                    ...             ...         ...    ...  \n",
      "135551                 0.7              71         0.6  0.822  \n",
      "135552                 0.7              74         0.6  0.824  \n",
      "135553                 0.7              77         0.5  0.781  \n",
      "135554                 0.7              80         0.5  0.735  \n",
      "135555                 0.7              83         0.5  0.573  \n",
      "\n",
      "[135556 rows x 28 columns]\n"
     ]
    }
   ],
   "source": [
    "print(df_cleaned)"
   ]
  },
  {
   "cell_type": "code",
   "execution_count": 62,
   "id": "51ab0853",
   "metadata": {},
   "outputs": [],
   "source": [
    "df_cleaned.to_csv(\"../data/preprocessed/solar_data_combined_cleaned.csv\", index=False)"
   ]
  },
  {
   "cell_type": "code",
   "execution_count": null,
   "id": "a4763b49",
   "metadata": {},
   "outputs": [],
   "source": []
  }
 ],
 "metadata": {
  "kernelspec": {
   "display_name": "Python 3 (ipykernel)",
   "language": "python",
   "name": "python3"
  },
  "language_info": {
   "codemirror_mode": {
    "name": "ipython",
    "version": 3
   },
   "file_extension": ".py",
   "mimetype": "text/x-python",
   "name": "python",
   "nbconvert_exporter": "python",
   "pygments_lexer": "ipython3",
   "version": "3.7.0"
  }
 },
 "nbformat": 4,
 "nbformat_minor": 5
}
